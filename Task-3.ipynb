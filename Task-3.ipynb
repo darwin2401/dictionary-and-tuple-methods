{
 "cells": [
  {
   "cell_type": "markdown",
   "id": "b5aa26df-8bbb-4bbb-8de8-c1da79981b4b",
   "metadata": {},
   "source": [
    "# (a) Python Dictionary Methods"
   ]
  },
  {
   "cell_type": "markdown",
   "id": "a25cee15-129a-4a47-87ac-600085c6382f",
   "metadata": {},
   "source": [
    "## (1) clear()"
   ]
  },
  {
   "cell_type": "code",
   "execution_count": 1,
   "id": "b38e2fc1-ca45-4779-90be-5b3ab98f04b5",
   "metadata": {},
   "outputs": [],
   "source": [
    "#Removes all the elements from the dictionary."
   ]
  },
  {
   "cell_type": "code",
   "execution_count": 2,
   "id": "bd7bdc00-24dc-4e58-8800-6ac2de6c3237",
   "metadata": {},
   "outputs": [],
   "source": [
    "mobile =\t{\n",
    "  \"brand\": \"Samsung\",\n",
    "  \"model\": \"Galaxy Note 2\",\n",
    "  \"year\": 2012\n",
    "}"
   ]
  },
  {
   "cell_type": "code",
   "execution_count": 4,
   "id": "f1d78f28-64af-4ec0-b8a3-27b0cf5e0103",
   "metadata": {},
   "outputs": [
    {
     "name": "stdout",
     "output_type": "stream",
     "text": [
      "{'brand': 'Samsung', 'model': 'Galaxy Note 2', 'year': 2012}\n"
     ]
    }
   ],
   "source": [
    "print(mobile)"
   ]
  },
  {
   "cell_type": "code",
   "execution_count": 5,
   "id": "d1982080-b50e-48b0-9421-4e56c7068693",
   "metadata": {},
   "outputs": [
    {
     "name": "stdout",
     "output_type": "stream",
     "text": [
      "{}\n"
     ]
    }
   ],
   "source": [
    "mobile.clear()\n",
    "\n",
    "print(mobile)"
   ]
  },
  {
   "cell_type": "code",
   "execution_count": null,
   "id": "a4b5d095-d507-4a17-a240-d2a977a3756f",
   "metadata": {},
   "outputs": [],
   "source": []
  },
  {
   "cell_type": "markdown",
   "id": "d449164e-4f48-44b7-9d81-f68514e938c9",
   "metadata": {},
   "source": [
    "## (2) copy()"
   ]
  },
  {
   "cell_type": "code",
   "execution_count": 6,
   "id": "8ea7b00a-b033-4edb-83de-184f7aeb320b",
   "metadata": {},
   "outputs": [],
   "source": [
    "#Returns a copy of the dictionary."
   ]
  },
  {
   "cell_type": "code",
   "execution_count": 9,
   "id": "f4ea1db4-4911-40cb-8ed3-c7ac751bd35f",
   "metadata": {},
   "outputs": [],
   "source": [
    "train =\t{\n",
    "  \"train_name\": \"Vande Bharat\",\n",
    "  \"class\": \" EC\",\n",
    "  \"seat_no\": 24\n",
    "}"
   ]
  },
  {
   "cell_type": "code",
   "execution_count": 10,
   "id": "6e2cb27b-8b44-4144-9162-ca9f476563c2",
   "metadata": {},
   "outputs": [
    {
     "name": "stdout",
     "output_type": "stream",
     "text": [
      "{'train_name': 'Vande Bharat', 'class': ' EC', 'seat_no': 24}\n"
     ]
    }
   ],
   "source": [
    "print(train)"
   ]
  },
  {
   "cell_type": "code",
   "execution_count": 11,
   "id": "9aac7ad9-45a6-4bc6-8bf5-252a9993e619",
   "metadata": {},
   "outputs": [
    {
     "name": "stdout",
     "output_type": "stream",
     "text": [
      "{'train_name': 'Vande Bharat', 'class': ' EC', 'seat_no': 24}\n"
     ]
    }
   ],
   "source": [
    "train.copy()\n",
    "\n",
    "print(train)"
   ]
  },
  {
   "cell_type": "code",
   "execution_count": null,
   "id": "b11f3c33-88e5-481c-80f8-e26b961d8884",
   "metadata": {},
   "outputs": [],
   "source": []
  },
  {
   "cell_type": "markdown",
   "id": "11bade6c-93d0-4ec2-8246-a97adbe113ff",
   "metadata": {},
   "source": [
    "## (3) fromkey()"
   ]
  },
  {
   "cell_type": "code",
   "execution_count": 14,
   "id": "bdf38760-aaa3-4fc7-a330-39a9fba654a8",
   "metadata": {},
   "outputs": [],
   "source": [
    "#Returns a dictionary with the specified keys and value."
   ]
  },
  {
   "cell_type": "code",
   "execution_count": 21,
   "id": "ee6bd8b6-8f1d-4771-a946-ef523d04c1e6",
   "metadata": {},
   "outputs": [],
   "source": [
    "x = ('val1', 'val2', 'val3')\n",
    "y = (1)\n",
    "\n",
    "thisdict = dict.fromkeys(x, y)"
   ]
  },
  {
   "cell_type": "code",
   "execution_count": 22,
   "id": "a614f9e0-b314-4054-9322-639b438b6007",
   "metadata": {},
   "outputs": [
    {
     "name": "stdout",
     "output_type": "stream",
     "text": [
      "{'val1': 1, 'val2': 1, 'val3': 1}\n"
     ]
    }
   ],
   "source": [
    "print(thisdict)"
   ]
  },
  {
   "cell_type": "code",
   "execution_count": null,
   "id": "e9a35485-b30c-4e97-9f62-e5e913ff9ecd",
   "metadata": {},
   "outputs": [],
   "source": []
  },
  {
   "cell_type": "markdown",
   "id": "177b498e-b77a-44e1-9153-568989831170",
   "metadata": {},
   "source": [
    "## (4) get()"
   ]
  },
  {
   "cell_type": "code",
   "execution_count": 23,
   "id": "420bdb62-77f5-4c23-a4e3-a4be9c2ddfd3",
   "metadata": {},
   "outputs": [],
   "source": [
    "#Returns the value of the specified key."
   ]
  },
  {
   "cell_type": "code",
   "execution_count": 25,
   "id": "c7b1548e-d386-455a-bbbd-35f8d2ea82fe",
   "metadata": {},
   "outputs": [],
   "source": [
    "student = {\n",
    "  \"board\": \"CBSE\",\n",
    "  \"subject\": \"Physics\",\n",
    "  \"marks\": 80\n",
    "}"
   ]
  },
  {
   "cell_type": "code",
   "execution_count": 26,
   "id": "74813e94-88b3-40a7-9fbe-096e9c52824c",
   "metadata": {},
   "outputs": [
    {
     "name": "stdout",
     "output_type": "stream",
     "text": [
      "Physics\n"
     ]
    }
   ],
   "source": [
    "x = student.get(\"subject\")\n",
    "\n",
    "print(x)"
   ]
  },
  {
   "cell_type": "code",
   "execution_count": null,
   "id": "84c39277-6731-45f5-a555-65e70978c35b",
   "metadata": {},
   "outputs": [],
   "source": []
  },
  {
   "cell_type": "markdown",
   "id": "aace20ae-33db-4e2c-af27-20cbc2723ed7",
   "metadata": {},
   "source": [
    "## (5) items()"
   ]
  },
  {
   "cell_type": "code",
   "execution_count": 27,
   "id": "cda2abd6-ecca-41c2-97cc-c1b56c2fc23f",
   "metadata": {},
   "outputs": [],
   "source": [
    "#Returns a list containing a tuple for each key value pair."
   ]
  },
  {
   "cell_type": "code",
   "execution_count": 28,
   "id": "aab2d237-bf54-4271-bbdf-a1ec5363bff9",
   "metadata": {},
   "outputs": [],
   "source": [
    "movie = {\n",
    "  \"title\": \"The Shawshank Redemption\",\n",
    "  \"genre\": \"Thriller/Crime\",\n",
    "  \"year\": 1994\n",
    "}"
   ]
  },
  {
   "cell_type": "code",
   "execution_count": 29,
   "id": "5f8ba018-b70e-4698-bb52-3290eabad082",
   "metadata": {},
   "outputs": [
    {
     "name": "stdout",
     "output_type": "stream",
     "text": [
      "dict_items([('title', 'The Shawshank Redemption'), ('genre', 'Thriller/Crime'), ('year', 1994)])\n"
     ]
    }
   ],
   "source": [
    "x1 = movie.items()\n",
    "\n",
    "print(x1)"
   ]
  },
  {
   "cell_type": "code",
   "execution_count": null,
   "id": "6b2cabf3-3361-49dd-b95a-c3c35f5d346b",
   "metadata": {},
   "outputs": [],
   "source": []
  },
  {
   "cell_type": "markdown",
   "id": "afe3bd0d-8871-4ffa-9ca8-1b222d4b29a5",
   "metadata": {},
   "source": [
    "## (6) keys()"
   ]
  },
  {
   "cell_type": "code",
   "execution_count": 30,
   "id": "4cad7b7b-fc2e-4019-afa8-b7d077acea5b",
   "metadata": {},
   "outputs": [],
   "source": [
    "#Returns a list containing the dictionary's keys."
   ]
  },
  {
   "cell_type": "code",
   "execution_count": 33,
   "id": "1e8b8174-2058-469e-842a-be27703b0554",
   "metadata": {},
   "outputs": [],
   "source": [
    "songs = {\n",
    "  \"name\": \"Heart Attack\",\n",
    "  \"genre\": \"electropop\",\n",
    "  \"artist\": \"Demi Lovato\"\n",
    "}"
   ]
  },
  {
   "cell_type": "code",
   "execution_count": 34,
   "id": "e0bcec6d-9157-435c-b0c1-b8cc2229bcf2",
   "metadata": {},
   "outputs": [
    {
     "name": "stdout",
     "output_type": "stream",
     "text": [
      "dict_keys(['name', 'genre', 'artist'])\n"
     ]
    }
   ],
   "source": [
    "x2 = songs.keys()\n",
    "\n",
    "print(x2)"
   ]
  },
  {
   "cell_type": "code",
   "execution_count": null,
   "id": "17e04ef0-9466-4d94-81d8-c671d39880f7",
   "metadata": {},
   "outputs": [],
   "source": []
  },
  {
   "cell_type": "markdown",
   "id": "1b8fce94-e154-46bc-b5cb-d162881b5f64",
   "metadata": {},
   "source": [
    "## (7) pop()"
   ]
  },
  {
   "cell_type": "code",
   "execution_count": 35,
   "id": "baf6414b-c614-47d4-bfa6-dfb0904b73c7",
   "metadata": {},
   "outputs": [],
   "source": [
    "#Removes the element with the specified key."
   ]
  },
  {
   "cell_type": "code",
   "execution_count": 44,
   "id": "524d5957-1287-4938-bc9e-749d4d9ec8ac",
   "metadata": {},
   "outputs": [],
   "source": [
    "prime = {\n",
    "  \"series\": \"Panchayat\",\n",
    "  \"season\": 3,\n",
    "  \"release_year\": 2024\n",
    "}"
   ]
  },
  {
   "cell_type": "code",
   "execution_count": 47,
   "id": "e1190865-37e7-4a17-b760-1cb15c08e504",
   "metadata": {},
   "outputs": [
    {
     "name": "stdout",
     "output_type": "stream",
     "text": [
      "{'series': 'Panchayat', 'release_year': 2024}\n"
     ]
    }
   ],
   "source": [
    "prime.pop(\"season\")\n",
    "\n",
    "print(prime)"
   ]
  },
  {
   "cell_type": "code",
   "execution_count": null,
   "id": "b01c3fd7-b551-43cb-ade3-fd8892f903d0",
   "metadata": {},
   "outputs": [],
   "source": []
  },
  {
   "cell_type": "markdown",
   "id": "e1be579d-287d-446a-a28e-9da9557680a0",
   "metadata": {},
   "source": [
    "## (8) popitem()"
   ]
  },
  {
   "cell_type": "code",
   "execution_count": 48,
   "id": "9bcff69e-97e5-48db-b471-4222c63db843",
   "metadata": {},
   "outputs": [],
   "source": [
    "#Removes the \"last inserted\" key-value pair."
   ]
  },
  {
   "cell_type": "code",
   "execution_count": 49,
   "id": "5c27972d-f30f-405e-a5d0-aa5b5607a9d9",
   "metadata": {},
   "outputs": [],
   "source": [
    "prime = {\n",
    "  \"series\": \"Panchayat\",\n",
    "  \"season\": 3,\n",
    "  \"release_year\": 2024\n",
    "}"
   ]
  },
  {
   "cell_type": "code",
   "execution_count": 50,
   "id": "a35f506d-21a5-4b1a-81ec-722845ed0597",
   "metadata": {},
   "outputs": [
    {
     "name": "stdout",
     "output_type": "stream",
     "text": [
      "{'series': 'Panchayat', 'season': 3}\n"
     ]
    }
   ],
   "source": [
    "prime.popitem()\n",
    "\n",
    "print(prime)"
   ]
  },
  {
   "cell_type": "code",
   "execution_count": null,
   "id": "8c95136e-77db-4354-a3e2-0300f1c42dd0",
   "metadata": {},
   "outputs": [],
   "source": []
  },
  {
   "cell_type": "markdown",
   "id": "8d94f56f-1e32-4dc0-9144-34c9f65a8cf3",
   "metadata": {},
   "source": [
    "## (9) setdefault()"
   ]
  },
  {
   "cell_type": "code",
   "execution_count": 58,
   "id": "3a656883-309e-4c5f-a6e3-c8dd7bec8bb0",
   "metadata": {},
   "outputs": [],
   "source": [
    "#Returns the value of the specified key.\n",
    "#If the key does not exist: insert the key, with the specified value."
   ]
  },
  {
   "cell_type": "markdown",
   "id": "c0673bec-a9b0-45a6-9a79-a7d1425c81ec",
   "metadata": {},
   "source": [
    "#### example 1"
   ]
  },
  {
   "cell_type": "code",
   "execution_count": 53,
   "id": "4add8bf2-75f5-4ef3-8946-d95e8de8cf8b",
   "metadata": {},
   "outputs": [],
   "source": [
    "space = {\n",
    "  \"agency\": \"ISRO\",\n",
    "  \"established_in\": 1969,\n",
    "  \"established_by\": \"India\"\n",
    "}"
   ]
  },
  {
   "cell_type": "code",
   "execution_count": 55,
   "id": "bd2acb01-8695-487a-91a5-12e22e9a1229",
   "metadata": {},
   "outputs": [
    {
     "name": "stdout",
     "output_type": "stream",
     "text": [
      "ISRO\n"
     ]
    }
   ],
   "source": [
    "x_space = space.setdefault(\"agency\")\n",
    "\n",
    "print(x_space)"
   ]
  },
  {
   "cell_type": "markdown",
   "id": "236242f5-6d7d-4d9d-9fb1-09d0f6339ffd",
   "metadata": {},
   "source": [
    "#### example 2 (assigning new key : value pair)"
   ]
  },
  {
   "cell_type": "code",
   "execution_count": 59,
   "id": "ce1c5ad6-7ddb-4fa3-8084-9065b78e1559",
   "metadata": {},
   "outputs": [],
   "source": [
    "car = {\n",
    "  \"brand\": \"Ford\",\n",
    "  \"model\": \"Mustang\",\n",
    "  \"year\": 1964\n",
    "}"
   ]
  },
  {
   "cell_type": "code",
   "execution_count": 60,
   "id": "4279d894-ccc2-4b27-a39a-97e00af46152",
   "metadata": {},
   "outputs": [
    {
     "name": "stdout",
     "output_type": "stream",
     "text": [
      "White\n"
     ]
    }
   ],
   "source": [
    "x = car.setdefault(\"color\", \"White\")\n",
    "\n",
    "print(x)"
   ]
  },
  {
   "cell_type": "code",
   "execution_count": 61,
   "id": "61984490-0bc2-4384-9a89-7c56bf217e3a",
   "metadata": {},
   "outputs": [
    {
     "name": "stdout",
     "output_type": "stream",
     "text": [
      "{'brand': 'Ford', 'model': 'Mustang', 'year': 1964, 'color': 'White'}\n"
     ]
    }
   ],
   "source": [
    "print(car)"
   ]
  },
  {
   "cell_type": "code",
   "execution_count": null,
   "id": "5317b8f5-618b-4b1b-b408-01c3370b53c8",
   "metadata": {},
   "outputs": [],
   "source": []
  },
  {
   "cell_type": "markdown",
   "id": "e9d19c1c-776a-4618-905e-529c3ef88d8c",
   "metadata": {},
   "source": [
    "## (10) update()"
   ]
  },
  {
   "cell_type": "code",
   "execution_count": 62,
   "id": "2b0c88db-0705-4555-bcc2-976b11d36009",
   "metadata": {},
   "outputs": [],
   "source": [
    "#Updates the dictionary with the specified key-value pairs."
   ]
  },
  {
   "cell_type": "code",
   "execution_count": 63,
   "id": "0a161010-2f03-4e65-a772-f433acbb2f86",
   "metadata": {},
   "outputs": [],
   "source": [
    "space_2 = {\n",
    "  \"agency\": \"SpaceX\",\n",
    "  \"established_in\": 2002,\n",
    "  \"established_by\": \"Elon Musk\"\n",
    "}"
   ]
  },
  {
   "cell_type": "code",
   "execution_count": 64,
   "id": "5380bacc-bba3-4a87-8d4d-af435d808145",
   "metadata": {},
   "outputs": [
    {
     "name": "stdout",
     "output_type": "stream",
     "text": [
      "{'agency': 'SpaceX', 'established_in': 2002, 'established_by': 'Elon Musk', 'born': 'South Africa'}\n"
     ]
    }
   ],
   "source": [
    "space_2.update({\"born\": \"South Africa\"})\n",
    "\n",
    "print(space_2)"
   ]
  },
  {
   "cell_type": "code",
   "execution_count": null,
   "id": "6f406299-a83a-41cd-a287-9da79d3c195d",
   "metadata": {},
   "outputs": [],
   "source": []
  },
  {
   "cell_type": "markdown",
   "id": "1e0f60a8-d612-41b3-a42e-d09a819298d3",
   "metadata": {},
   "source": [
    "## (11) values()"
   ]
  },
  {
   "cell_type": "code",
   "execution_count": 65,
   "id": "4911e126-a9d7-4464-bb7a-b3837c0af8bb",
   "metadata": {},
   "outputs": [],
   "source": [
    "#Returns a list of all the values in the dictionary."
   ]
  },
  {
   "cell_type": "code",
   "execution_count": 66,
   "id": "ace771ca-5c09-45aa-89fe-3cfcd0ba37d1",
   "metadata": {},
   "outputs": [],
   "source": [
    "wishes = {\n",
    "  \"val1\": \"Happy\",\n",
    "  \"val2\": \"New Year\",\n",
    "  \"val3\": 2024\n",
    "}"
   ]
  },
  {
   "cell_type": "code",
   "execution_count": 67,
   "id": "a8474f67-1ab1-4f4d-b0e1-4a6fab6123cf",
   "metadata": {},
   "outputs": [
    {
     "name": "stdout",
     "output_type": "stream",
     "text": [
      "dict_values(['Happy', 'New Year', 2024])\n"
     ]
    }
   ],
   "source": [
    "wishes_new = wishes.values()\n",
    "\n",
    "print(wishes_new)"
   ]
  },
  {
   "cell_type": "code",
   "execution_count": null,
   "id": "b2b5f005-0d0d-4844-98a9-39b29ed6a92a",
   "metadata": {},
   "outputs": [],
   "source": []
  },
  {
   "cell_type": "code",
   "execution_count": null,
   "id": "be5bd248-d52d-49e5-81cf-b11dc79ba15f",
   "metadata": {},
   "outputs": [],
   "source": []
  },
  {
   "cell_type": "markdown",
   "id": "9e8aac5e-5120-4d92-b474-7552aef3a2a5",
   "metadata": {},
   "source": [
    "# (b) Python Tuple Methods"
   ]
  },
  {
   "cell_type": "markdown",
   "id": "61880e25-6367-4cb3-a938-e851d8f63a7d",
   "metadata": {},
   "source": [
    "## (1) count()"
   ]
  },
  {
   "cell_type": "code",
   "execution_count": 74,
   "id": "ab196af9-a9ba-42c2-9aaa-2c504aab148a",
   "metadata": {},
   "outputs": [],
   "source": [
    "#Returns the number of times a specified value occurs in a tuple."
   ]
  },
  {
   "cell_type": "code",
   "execution_count": 75,
   "id": "dbc34695-91d1-4179-9d25-f7da7023a50b",
   "metadata": {},
   "outputs": [],
   "source": [
    "tuple1 = (245, 3, 245, 8, 77, 55, 78, 677, 4818, 548)"
   ]
  },
  {
   "cell_type": "code",
   "execution_count": 76,
   "id": "6a4baa41-b408-435e-890b-9a0d657305d2",
   "metadata": {},
   "outputs": [
    {
     "name": "stdout",
     "output_type": "stream",
     "text": [
      "2\n"
     ]
    }
   ],
   "source": [
    "z1 = tuple1.count(245)\n",
    "\n",
    "print(z1)"
   ]
  },
  {
   "cell_type": "code",
   "execution_count": null,
   "id": "de3bbf92-8ed8-4807-8972-d1baa553520e",
   "metadata": {},
   "outputs": [],
   "source": []
  },
  {
   "cell_type": "markdown",
   "id": "7a8e6de5-2160-42a3-8636-ec1d994a76ac",
   "metadata": {},
   "source": [
    "## (2) index()"
   ]
  },
  {
   "cell_type": "code",
   "execution_count": 77,
   "id": "59c51222-c234-4db9-bf63-2cbfecc6a25c",
   "metadata": {},
   "outputs": [],
   "source": [
    "#Searches the tuple for a specified value and returns the position of where it was found."
   ]
  },
  {
   "cell_type": "code",
   "execution_count": 78,
   "id": "c4254c50-d0cb-4a5b-b8b0-75455691e235",
   "metadata": {},
   "outputs": [],
   "source": [
    "tuple2 = (101,202,303,404,505,606,707,808,909,1010)"
   ]
  },
  {
   "cell_type": "code",
   "execution_count": 81,
   "id": "a861154f-90d1-4868-a1bf-ee3715e818ab",
   "metadata": {},
   "outputs": [
    {
     "name": "stdout",
     "output_type": "stream",
     "text": [
      "5\n"
     ]
    }
   ],
   "source": [
    "z2 = tuple2.index(606)\n",
    "\n",
    "print(z2)"
   ]
  },
  {
   "cell_type": "code",
   "execution_count": null,
   "id": "7dbf6c49-0579-4a25-b230-07eaab34a6f0",
   "metadata": {},
   "outputs": [],
   "source": []
  }
 ],
 "metadata": {
  "kernelspec": {
   "display_name": "Python 3 (ipykernel)",
   "language": "python",
   "name": "python3"
  },
  "language_info": {
   "codemirror_mode": {
    "name": "ipython",
    "version": 3
   },
   "file_extension": ".py",
   "mimetype": "text/x-python",
   "name": "python",
   "nbconvert_exporter": "python",
   "pygments_lexer": "ipython3",
   "version": "3.11.7"
  }
 },
 "nbformat": 4,
 "nbformat_minor": 5
}
